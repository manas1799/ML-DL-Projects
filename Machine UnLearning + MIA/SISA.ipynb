{
  "nbformat": 4,
  "nbformat_minor": 0,
  "metadata": {
    "accelerator": "GPU",
    "colab": {
      "name": "SISA",
      "provenance": []
    },
    "interpreter": {
      "hash": "f2575392019334285e0602a4035eec46b9260ee4c95297ea34ade6e3c8b8fcaf"
    },
    "kernelspec": {
      "display_name": "Python 3.8.10 64-bit",
      "language": "python",
      "name": "python3"
    },
    "language_info": {
      "codemirror_mode": {
        "name": "ipython",
        "version": 3
      },
      "file_extension": ".py",
      "mimetype": "text/x-python",
      "name": "python",
      "nbconvert_exporter": "python",
      "pygments_lexer": "ipython3",
      "version": "3.8.10"
    }
  },
  "cells": [
    {
      "cell_type": "code",
      "metadata": {
        "id": "Kh89TphDWVIZ"
      },
      "source": [
        "import tensorflow as tf\n",
        "import keras\n",
        "import sys\n",
        "from matplotlib import pyplot\n",
        "from keras.models import Sequential, load_model, Model\n",
        "from tensorflow.keras.datasets import cifar10\n",
        "from tensorflow.keras.utils import to_categorical\n",
        "from tensorflow.keras.models import Sequential\n",
        "from tensorflow.keras.layers import Conv2D, Activation, BatchNormalization\n",
        "from tensorflow.keras.layers import MaxPooling2D, Dropout\n",
        "from tensorflow.keras.layers import Dense, Input, Conv2DTranspose\n",
        "from tensorflow.keras.layers import Flatten, Add, AveragePooling2D, ZeroPadding2D\n",
        "from tensorflow.keras.optimizers import SGD\n",
        "from keras.initializers import glorot_uniform\n",
        "from keras.activations import relu, softmax\n",
        "from keras.callbacks import EarlyStopping, TensorBoard, ModelCheckpoint\n",
        "from tensorflow.keras.utils import plot_model\n",
        "from keras.utils.vis_utils import model_to_dot\n",
        "from keras import backend as K\n",
        "from sklearn.metrics import confusion_matrix\n",
        "from matplotlib import animation, rc\n",
        "import matplotlib.patches as mpatches\n",
        "from IPython.display import HTML, display, clear_output, SVG\n",
        "from tensorflow.keras.optimizers import Adadelta\n",
        "import ipywidgets as widgets\n",
        "from tensorflow.keras.applications.resnet50 import ResNet50\n",
        "import random"
      ],
      "execution_count": null,
      "outputs": []
    },
    {
      "cell_type": "code",
      "metadata": {
        "id": "Ao_hST3WWVIb"
      },
      "source": [
        "def load_dataset():\n",
        "\t# load dataset\n",
        "\t(trainX, trainY), (testX, testY) = cifar10.load_data()\n",
        "\t# one hot encode target values\n",
        "\ttrainY = to_categorical(trainY)\n",
        "\ttestY = to_categorical(testY)\n",
        "\treturn trainX, trainY, testX, testY"
      ],
      "execution_count": null,
      "outputs": []
    },
    {
      "cell_type": "code",
      "metadata": {
        "id": "Cya3s6apWVIc"
      },
      "source": [
        "def define_model():\n",
        "\tmodel = Sequential()\n",
        "\tmodel.add(Conv2D(32, (3, 3), activation='relu', kernel_initializer='he_uniform', padding='same', input_shape=(32, 32, 3)))\n",
        "\tmodel.add(Conv2D(32, (3, 3), activation='relu', kernel_initializer='he_uniform', padding='same'))\n",
        "\tmodel.add(MaxPooling2D((2, 2)))\n",
        "\tmodel.add(Conv2D(64, (3, 3), activation='relu', kernel_initializer='he_uniform', padding='same'))\n",
        "\tmodel.add(Conv2D(64, (3, 3), activation='relu', kernel_initializer='he_uniform', padding='same'))\n",
        "\tmodel.add(MaxPooling2D((2, 2)))\n",
        "\tmodel.add(Conv2D(128, (3, 3), activation='relu', kernel_initializer='he_uniform', padding='same'))\n",
        "\tmodel.add(Conv2D(128, (3, 3), activation='relu', kernel_initializer='he_uniform', padding='same'))\n",
        "\tmodel.add(MaxPooling2D((2, 2)))\n",
        "\tmodel.add(Flatten())\n",
        "\tmodel.add(Dense(128, activation='relu', kernel_initializer='he_uniform'))\n",
        "\tmodel.add(Dense(10, activation='softmax'))\n",
        "\t# compile model\n",
        "\topt = SGD(lr=0.001, momentum=0.9)\n",
        "\tmodel.compile(optimizer=opt, loss='categorical_crossentropy', metrics=['accuracy'])\n",
        "\treturn model\n"
      ],
      "execution_count": null,
      "outputs": []
    },
    {
      "cell_type": "code",
      "source": [
        ""
      ],
      "metadata": {
        "id": "GzMl2r4N4viq"
      },
      "execution_count": null,
      "outputs": []
    },
    {
      "cell_type": "code",
      "metadata": {
        "id": "9a4AVqYAxvQT"
      },
      "source": [
        "def model():\n",
        "\tbase_model = ResNet50(include_top=False, input_shape=(128, 128, 3), pooling='max')\n",
        "\t\n",
        "\tfor layer in base_model.layers:\n",
        "\t\tlayer.trainable = False\n",
        "\tmodel = Sequential()\n",
        "\tmodel.add(Conv2DTranspose(3, (3, 3), strides=2, padding='same', activation='relu', input_shape=(32,32,3)))\n",
        "\tmodel.add(BatchNormalization())\n",
        "\tmodel.add(Conv2DTranspose(3, (3, 3), strides=2, padding='same', activation='relu'))\n",
        "\tmodel.add(BatchNormalization())\n",
        "\tmodel.add(base_model)\n",
        "\tmodel.add(Flatten())\n",
        "\tmodel.add(Dense(1024, activation='relu'))\n",
        "\tmodel.add(Dense(512, activation='relu'))\n",
        "\tmodel.add(Dense(10, activation='softmax'))\n",
        "\topt = SGD(lr=0.001, momentum=0.9)\n",
        "\tmodel.compile(optimizer=opt, loss='categorical_crossentropy', metrics=['accuracy'])\n",
        "\t\n",
        "\treturn model"
      ],
      "execution_count": null,
      "outputs": []
    },
    {
      "cell_type": "code",
      "source": [
        "model = model()\n",
        "plot_model(model, to_file='model_plot.png', show_shapes=True, show_layer_names=True)\n"
      ],
      "metadata": {
        "colab": {
          "base_uri": "https://localhost:8080/",
          "height": 1000
        },
        "id": "P4CkBUjF4y-x",
        "outputId": "aa9658d6-c0ac-4a70-c10e-283a0d68e909"
      },
      "execution_count": null,
      "outputs": [
        {
          "output_type": "stream",
          "name": "stdout",
          "text": [
            "Downloading data from https://storage.googleapis.com/tensorflow/keras-applications/resnet/resnet50_weights_tf_dim_ordering_tf_kernels_notop.h5\n",
            "94773248/94765736 [==============================] - 1s 0us/step\n",
            "94781440/94765736 [==============================] - 1s 0us/step\n"
          ]
        },
        {
          "output_type": "stream",
          "name": "stderr",
          "text": [
            "/usr/local/lib/python3.7/dist-packages/keras/optimizer_v2/gradient_descent.py:102: UserWarning: The `lr` argument is deprecated, use `learning_rate` instead.\n",
            "  super(SGD, self).__init__(name, **kwargs)\n"
          ]
        },
        {
          "output_type": "execute_result",
          "data": {
            "image/png": "[encoded data removed]",
            "text/plain": [
              "<IPython.core.display.Image object>"
            ]
          },
          "metadata": {},
          "execution_count": 5
        }
      ]
    },
    {
      "cell_type": "code",
      "metadata": {
        "id": "JlCbAGQ-WVIc"
      },
      "source": [
        "def prep_pixels(train, test):\n",
        "\t# convert from integers to floats\n",
        "\ttrain_norm = train.astype('float32')\n",
        "\ttest_norm = test.astype('float32')\n",
        "\t# normalize to range 0-1\n",
        "\ttrain_norm = train_norm / 255.0\n",
        "\ttest_norm = test_norm / 255.0\n",
        "\t# return normalized images\n",
        "\treturn train_norm, test_norm\n",
        "\n",
        "def preprocess_image_input(input_images):\n",
        "\tinput_images = input_images.astype('float32')\n",
        "\toutput_ims = tf.keras.applications.resnet50.preprocess_input(input_images)\n",
        "\treturn output_ims\n"
      ],
      "execution_count": null,
      "outputs": []
    },
    {
      "cell_type": "code",
      "metadata": {
        "id": "uSXxRRTmWVIc",
        "colab": {
          "base_uri": "https://localhost:8080/"
        },
        "outputId": "65251747-48af-4d36-d522-753a04402f8a"
      },
      "source": [
        "x_train, y_train, x_test, y_test = load_dataset()\n",
        "models = []\n",
        "# x_train, x_test = prep_pixels(x_train, x_test)\n",
        "x_train = preprocess_image_input(x_train)\n",
        "x_test = preprocess_image_input(x_test)\n",
        "excluded_data_x = []\n",
        "excluded_data_y = []\n",
        "def run_test_harness():\n",
        "  base_epochs = 1\n",
        "  curr_model = 1 \n",
        "  for i in range(0, x_train.shape[0], 5000):\n",
        "      curr_x_train = x_train[i : (i+5000)]\n",
        "      curr_y_train = y_train[i : (i+5000)]\n",
        "      model_i = model()\n",
        "      print(\"Training shard: \" + str(curr_model) + \" out of \" + str((int)(x_train.shape[0] / 5000)))\n",
        "      excluded_list = []\n",
        "      excluded_list.append(random.randint(1,20))\n",
        "      rand2 = random.randint(1,20)\n",
        "      while rand2 == excluded_list[0]:\n",
        "          rand2 = random.randint(1,20)\n",
        "      excluded_list.append(rand2)\n",
        "\n",
        "      for j in range(250, len(curr_x_train), 250):\n",
        "          print(\"Training slice: \" + str((int)(j/250)) + \" out of \" + str((int)(len(curr_x_train)/250)))\n",
        "          if ((int)(j/250)) in excluded_list:\n",
        "              excluded_data_x.append(curr_x_train[j-250 : j])\n",
        "              excluded_data_y.append(curr_y_train[j-250 : j])\n",
        "              print(\"Data excluded for \"+ str((int)(j/250)))\n",
        "              continue\n",
        "          slice_x = curr_x_train[0: j]\n",
        "          slice_y = curr_y_train[0: j]\n",
        "          epochs = base_epochs * (int)(j/250)\n",
        "\n",
        "          model_i.fit(slice_x, slice_y, batch_size=16, epochs=epochs, verbose=True)\n",
        "      \n",
        "      models.append(model_i)\n",
        "      curr_model+=1\n",
        "\n",
        "  return models\n"
      ],
      "execution_count": null,
      "outputs": [
        {
          "output_type": "stream",
          "name": "stdout",
          "text": [
            "Downloading data from https://www.cs.toronto.edu/~kriz/cifar-10-python.tar.gz\n",
            "170500096/170498071 [==============================] - 2s 0us/step\n",
            "170508288/170498071 [==============================] - 2s 0us/step\n"
          ]
        }
      ]
    },
    {
      "cell_type": "code",
      "metadata": {
        "id": "-BZO1u3LWVId"
      },
      "source": [
        "# models = run_test_harness()"
      ],
      "execution_count": null,
      "outputs": []
    },
    {
      "cell_type": "code",
      "source": [
        "from google.colab import drive\n",
        "drive.mount('/content/drive')"
      ],
      "metadata": {
        "colab": {
          "base_uri": "https://localhost:8080/"
        },
        "id": "PyMp2WUvgvr5",
        "outputId": "dd0373aa-aa23-4387-b4d0-a133769a56af"
      },
      "execution_count": null,
      "outputs": [
        {
          "output_type": "stream",
          "name": "stdout",
          "text": [
            "Drive already mounted at /content/drive; to attempt to forcibly remount, call drive.mount(\"/content/drive\", force_remount=True).\n"
          ]
        }
      ]
    },
    {
      "cell_type": "code",
      "metadata": {
        "id": "PTOwZp4HyBGP"
      },
      "source": [
        "import numpy as np\n",
        "models = np.load(\"/content/drive/MyDrive/models.npy\", allow_pickle=True)"
      ],
      "execution_count": null,
      "outputs": []
    },
    {
      "cell_type": "code",
      "metadata": {
        "id": "s3Dv55E9y9j4",
        "colab": {
          "base_uri": "https://localhost:8080/",
          "height": 416
        },
        "outputId": "7ba8ba39-9ab8-4fb6-ad2f-5b2ff6c4e5a4"
      },
      "source": [
        "# preds = []\n",
        "# for i in range(models.shape[0]):\n",
        "#   print(i+1)\n",
        "#   for j in range(x_test.shape[0]):\n",
        "#     preds.append(np.argmax(models[i].predict(x_test[j].reshape((-1,32,32,3)))))\n",
        "\n",
        "preds = []\n",
        "for i in range(models.shape[0]):\n",
        "  print(str(i+1))\n",
        "  pred = models[i].predict(x_test)\n",
        "  pred = np.argmax(pred, axis=1)\n",
        "  preds.append(pred)\n",
        "\n"
      ],
      "execution_count": null,
      "outputs": [
        {
          "output_type": "stream",
          "name": "stdout",
          "text": [
            "1\n"
          ]
        },
        {
          "output_type": "error",
          "ename": "KeyboardInterrupt",
          "evalue": "ignored",
          "traceback": [
            "\u001b[0;31m---------------------------------------------------------------------------\u001b[0m",
            "\u001b[0;31mKeyboardInterrupt\u001b[0m                         Traceback (most recent call last)",
            "\u001b[0;32m<ipython-input-17-0d942e7eaeb9>\u001b[0m in \u001b[0;36m<module>\u001b[0;34m()\u001b[0m\n\u001b[1;32m      8\u001b[0m \u001b[0;32mfor\u001b[0m \u001b[0mi\u001b[0m \u001b[0;32min\u001b[0m \u001b[0mrange\u001b[0m\u001b[0;34m(\u001b[0m\u001b[0mmodels\u001b[0m\u001b[0;34m.\u001b[0m\u001b[0mshape\u001b[0m\u001b[0;34m[\u001b[0m\u001b[0;36m0\u001b[0m\u001b[0;34m]\u001b[0m\u001b[0;34m)\u001b[0m\u001b[0;34m:\u001b[0m\u001b[0;34m\u001b[0m\u001b[0;34m\u001b[0m\u001b[0m\n\u001b[1;32m      9\u001b[0m   \u001b[0mprint\u001b[0m\u001b[0;34m(\u001b[0m\u001b[0mstr\u001b[0m\u001b[0;34m(\u001b[0m\u001b[0mi\u001b[0m\u001b[0;34m+\u001b[0m\u001b[0;36m1\u001b[0m\u001b[0;34m)\u001b[0m\u001b[0;34m)\u001b[0m\u001b[0;34m\u001b[0m\u001b[0;34m\u001b[0m\u001b[0m\n\u001b[0;32m---> 10\u001b[0;31m   \u001b[0mpred\u001b[0m \u001b[0;34m=\u001b[0m \u001b[0mmodels\u001b[0m\u001b[0;34m[\u001b[0m\u001b[0mi\u001b[0m\u001b[0;34m]\u001b[0m\u001b[0;34m.\u001b[0m\u001b[0mpredict\u001b[0m\u001b[0;34m(\u001b[0m\u001b[0mx_test\u001b[0m\u001b[0;34m)\u001b[0m\u001b[0;34m\u001b[0m\u001b[0;34m\u001b[0m\u001b[0m\n\u001b[0m\u001b[1;32m     11\u001b[0m   \u001b[0mpred\u001b[0m \u001b[0;34m=\u001b[0m \u001b[0mnp\u001b[0m\u001b[0;34m.\u001b[0m\u001b[0margmax\u001b[0m\u001b[0;34m(\u001b[0m\u001b[0mpred\u001b[0m\u001b[0;34m,\u001b[0m \u001b[0maxis\u001b[0m\u001b[0;34m=\u001b[0m\u001b[0;36m1\u001b[0m\u001b[0;34m)\u001b[0m\u001b[0;34m\u001b[0m\u001b[0;34m\u001b[0m\u001b[0m\n\u001b[1;32m     12\u001b[0m   \u001b[0mpreds\u001b[0m\u001b[0;34m.\u001b[0m\u001b[0mappend\u001b[0m\u001b[0;34m(\u001b[0m\u001b[0mpred\u001b[0m\u001b[0;34m)\u001b[0m\u001b[0;34m\u001b[0m\u001b[0;34m\u001b[0m\u001b[0m\n",
            "\u001b[0;32m/usr/local/lib/python3.7/dist-packages/keras/utils/traceback_utils.py\u001b[0m in \u001b[0;36merror_handler\u001b[0;34m(*args, **kwargs)\u001b[0m\n\u001b[1;32m     62\u001b[0m     \u001b[0mfiltered_tb\u001b[0m \u001b[0;34m=\u001b[0m \u001b[0;32mNone\u001b[0m\u001b[0;34m\u001b[0m\u001b[0;34m\u001b[0m\u001b[0m\n\u001b[1;32m     63\u001b[0m     \u001b[0;32mtry\u001b[0m\u001b[0;34m:\u001b[0m\u001b[0;34m\u001b[0m\u001b[0;34m\u001b[0m\u001b[0m\n\u001b[0;32m---> 64\u001b[0;31m       \u001b[0;32mreturn\u001b[0m \u001b[0mfn\u001b[0m\u001b[0;34m(\u001b[0m\u001b[0;34m*\u001b[0m\u001b[0margs\u001b[0m\u001b[0;34m,\u001b[0m \u001b[0;34m**\u001b[0m\u001b[0mkwargs\u001b[0m\u001b[0;34m)\u001b[0m\u001b[0;34m\u001b[0m\u001b[0;34m\u001b[0m\u001b[0m\n\u001b[0m\u001b[1;32m     65\u001b[0m     \u001b[0;32mexcept\u001b[0m \u001b[0mException\u001b[0m \u001b[0;32mas\u001b[0m \u001b[0me\u001b[0m\u001b[0;34m:\u001b[0m  \u001b[0;31m# pylint: disable=broad-except\u001b[0m\u001b[0;34m\u001b[0m\u001b[0;34m\u001b[0m\u001b[0m\n\u001b[1;32m     66\u001b[0m       \u001b[0mfiltered_tb\u001b[0m \u001b[0;34m=\u001b[0m \u001b[0m_process_traceback_frames\u001b[0m\u001b[0;34m(\u001b[0m\u001b[0me\u001b[0m\u001b[0;34m.\u001b[0m\u001b[0m__traceback__\u001b[0m\u001b[0;34m)\u001b[0m\u001b[0;34m\u001b[0m\u001b[0;34m\u001b[0m\u001b[0m\n",
            "\u001b[0;32m/usr/local/lib/python3.7/dist-packages/keras/engine/training.py\u001b[0m in \u001b[0;36mpredict\u001b[0;34m(self, x, batch_size, verbose, steps, callbacks, max_queue_size, workers, use_multiprocessing)\u001b[0m\n\u001b[1;32m   1787\u001b[0m           \u001b[0;32mfor\u001b[0m \u001b[0mstep\u001b[0m \u001b[0;32min\u001b[0m \u001b[0mdata_handler\u001b[0m\u001b[0;34m.\u001b[0m\u001b[0msteps\u001b[0m\u001b[0;34m(\u001b[0m\u001b[0;34m)\u001b[0m\u001b[0;34m:\u001b[0m\u001b[0;34m\u001b[0m\u001b[0;34m\u001b[0m\u001b[0m\n\u001b[1;32m   1788\u001b[0m             \u001b[0mcallbacks\u001b[0m\u001b[0;34m.\u001b[0m\u001b[0mon_predict_batch_begin\u001b[0m\u001b[0;34m(\u001b[0m\u001b[0mstep\u001b[0m\u001b[0;34m)\u001b[0m\u001b[0;34m\u001b[0m\u001b[0;34m\u001b[0m\u001b[0m\n\u001b[0;32m-> 1789\u001b[0;31m             \u001b[0mtmp_batch_outputs\u001b[0m \u001b[0;34m=\u001b[0m \u001b[0mself\u001b[0m\u001b[0;34m.\u001b[0m\u001b[0mpredict_function\u001b[0m\u001b[0;34m(\u001b[0m\u001b[0miterator\u001b[0m\u001b[0;34m)\u001b[0m\u001b[0;34m\u001b[0m\u001b[0;34m\u001b[0m\u001b[0m\n\u001b[0m\u001b[1;32m   1790\u001b[0m             \u001b[0;32mif\u001b[0m \u001b[0mdata_handler\u001b[0m\u001b[0;34m.\u001b[0m\u001b[0mshould_sync\u001b[0m\u001b[0;34m:\u001b[0m\u001b[0;34m\u001b[0m\u001b[0;34m\u001b[0m\u001b[0m\n\u001b[1;32m   1791\u001b[0m               \u001b[0mcontext\u001b[0m\u001b[0;34m.\u001b[0m\u001b[0masync_wait\u001b[0m\u001b[0;34m(\u001b[0m\u001b[0;34m)\u001b[0m\u001b[0;34m\u001b[0m\u001b[0;34m\u001b[0m\u001b[0m\n",
            "\u001b[0;32m/usr/local/lib/python3.7/dist-packages/tensorflow/python/util/traceback_utils.py\u001b[0m in \u001b[0;36merror_handler\u001b[0;34m(*args, **kwargs)\u001b[0m\n\u001b[1;32m    148\u001b[0m     \u001b[0mfiltered_tb\u001b[0m \u001b[0;34m=\u001b[0m \u001b[0;32mNone\u001b[0m\u001b[0;34m\u001b[0m\u001b[0;34m\u001b[0m\u001b[0m\n\u001b[1;32m    149\u001b[0m     \u001b[0;32mtry\u001b[0m\u001b[0;34m:\u001b[0m\u001b[0;34m\u001b[0m\u001b[0;34m\u001b[0m\u001b[0m\n\u001b[0;32m--> 150\u001b[0;31m       \u001b[0;32mreturn\u001b[0m \u001b[0mfn\u001b[0m\u001b[0;34m(\u001b[0m\u001b[0;34m*\u001b[0m\u001b[0margs\u001b[0m\u001b[0;34m,\u001b[0m \u001b[0;34m**\u001b[0m\u001b[0mkwargs\u001b[0m\u001b[0;34m)\u001b[0m\u001b[0;34m\u001b[0m\u001b[0;34m\u001b[0m\u001b[0m\n\u001b[0m\u001b[1;32m    151\u001b[0m     \u001b[0;32mexcept\u001b[0m \u001b[0mException\u001b[0m \u001b[0;32mas\u001b[0m \u001b[0me\u001b[0m\u001b[0;34m:\u001b[0m\u001b[0;34m\u001b[0m\u001b[0;34m\u001b[0m\u001b[0m\n\u001b[1;32m    152\u001b[0m       \u001b[0mfiltered_tb\u001b[0m \u001b[0;34m=\u001b[0m \u001b[0m_process_traceback_frames\u001b[0m\u001b[0;34m(\u001b[0m\u001b[0me\u001b[0m\u001b[0;34m.\u001b[0m\u001b[0m__traceback__\u001b[0m\u001b[0;34m)\u001b[0m\u001b[0;34m\u001b[0m\u001b[0;34m\u001b[0m\u001b[0m\n",
            "\u001b[0;32m/usr/local/lib/python3.7/dist-packages/tensorflow/python/eager/def_function.py\u001b[0m in \u001b[0;36m__call__\u001b[0;34m(self, *args, **kwds)\u001b[0m\n\u001b[1;32m    908\u001b[0m \u001b[0;34m\u001b[0m\u001b[0m\n\u001b[1;32m    909\u001b[0m       \u001b[0;32mwith\u001b[0m \u001b[0mOptionalXlaContext\u001b[0m\u001b[0;34m(\u001b[0m\u001b[0mself\u001b[0m\u001b[0;34m.\u001b[0m\u001b[0m_jit_compile\u001b[0m\u001b[0;34m)\u001b[0m\u001b[0;34m:\u001b[0m\u001b[0;34m\u001b[0m\u001b[0;34m\u001b[0m\u001b[0m\n\u001b[0;32m--> 910\u001b[0;31m         \u001b[0mresult\u001b[0m \u001b[0;34m=\u001b[0m \u001b[0mself\u001b[0m\u001b[0;34m.\u001b[0m\u001b[0m_call\u001b[0m\u001b[0;34m(\u001b[0m\u001b[0;34m*\u001b[0m\u001b[0margs\u001b[0m\u001b[0;34m,\u001b[0m \u001b[0;34m**\u001b[0m\u001b[0mkwds\u001b[0m\u001b[0;34m)\u001b[0m\u001b[0;34m\u001b[0m\u001b[0;34m\u001b[0m\u001b[0m\n\u001b[0m\u001b[1;32m    911\u001b[0m \u001b[0;34m\u001b[0m\u001b[0m\n\u001b[1;32m    912\u001b[0m       \u001b[0mnew_tracing_count\u001b[0m \u001b[0;34m=\u001b[0m \u001b[0mself\u001b[0m\u001b[0;34m.\u001b[0m\u001b[0mexperimental_get_tracing_count\u001b[0m\u001b[0;34m(\u001b[0m\u001b[0;34m)\u001b[0m\u001b[0;34m\u001b[0m\u001b[0;34m\u001b[0m\u001b[0m\n",
            "\u001b[0;32m/usr/local/lib/python3.7/dist-packages/tensorflow/python/eager/def_function.py\u001b[0m in \u001b[0;36m_call\u001b[0;34m(self, *args, **kwds)\u001b[0m\n\u001b[1;32m    947\u001b[0m       \u001b[0;31m# In this case we have not created variables on the first call. So we can\u001b[0m\u001b[0;34m\u001b[0m\u001b[0;34m\u001b[0m\u001b[0;34m\u001b[0m\u001b[0m\n\u001b[1;32m    948\u001b[0m       \u001b[0;31m# run the first trace but we should fail if variables are created.\u001b[0m\u001b[0;34m\u001b[0m\u001b[0;34m\u001b[0m\u001b[0;34m\u001b[0m\u001b[0m\n\u001b[0;32m--> 949\u001b[0;31m       \u001b[0mresults\u001b[0m \u001b[0;34m=\u001b[0m \u001b[0mself\u001b[0m\u001b[0;34m.\u001b[0m\u001b[0m_stateful_fn\u001b[0m\u001b[0;34m(\u001b[0m\u001b[0;34m*\u001b[0m\u001b[0margs\u001b[0m\u001b[0;34m,\u001b[0m \u001b[0;34m**\u001b[0m\u001b[0mkwds\u001b[0m\u001b[0;34m)\u001b[0m\u001b[0;34m\u001b[0m\u001b[0;34m\u001b[0m\u001b[0m\n\u001b[0m\u001b[1;32m    950\u001b[0m       \u001b[0;32mif\u001b[0m \u001b[0mself\u001b[0m\u001b[0;34m.\u001b[0m\u001b[0m_created_variables\u001b[0m \u001b[0;32mand\u001b[0m \u001b[0;32mnot\u001b[0m \u001b[0mALLOW_DYNAMIC_VARIABLE_CREATION\u001b[0m\u001b[0;34m:\u001b[0m\u001b[0;34m\u001b[0m\u001b[0;34m\u001b[0m\u001b[0m\n\u001b[1;32m    951\u001b[0m         raise ValueError(\"Creating variables on a non-first call to a function\"\n",
            "\u001b[0;32m/usr/local/lib/python3.7/dist-packages/tensorflow/python/eager/function.py\u001b[0m in \u001b[0;36m__call__\u001b[0;34m(self, *args, **kwargs)\u001b[0m\n\u001b[1;32m   3129\u001b[0m        filtered_flat_args) = self._maybe_define_function(args, kwargs)\n\u001b[1;32m   3130\u001b[0m     return graph_function._call_flat(\n\u001b[0;32m-> 3131\u001b[0;31m         filtered_flat_args, captured_inputs=graph_function.captured_inputs)  # pylint: disable=protected-access\n\u001b[0m\u001b[1;32m   3132\u001b[0m \u001b[0;34m\u001b[0m\u001b[0m\n\u001b[1;32m   3133\u001b[0m   \u001b[0;34m@\u001b[0m\u001b[0mproperty\u001b[0m\u001b[0;34m\u001b[0m\u001b[0;34m\u001b[0m\u001b[0m\n",
            "\u001b[0;32m/usr/local/lib/python3.7/dist-packages/tensorflow/python/eager/function.py\u001b[0m in \u001b[0;36m_call_flat\u001b[0;34m(self, args, captured_inputs, cancellation_manager)\u001b[0m\n\u001b[1;32m   1958\u001b[0m       \u001b[0;31m# No tape is watching; skip to running the function.\u001b[0m\u001b[0;34m\u001b[0m\u001b[0;34m\u001b[0m\u001b[0;34m\u001b[0m\u001b[0m\n\u001b[1;32m   1959\u001b[0m       return self._build_call_outputs(self._inference_function.call(\n\u001b[0;32m-> 1960\u001b[0;31m           ctx, args, cancellation_manager=cancellation_manager))\n\u001b[0m\u001b[1;32m   1961\u001b[0m     forward_backward = self._select_forward_and_backward_functions(\n\u001b[1;32m   1962\u001b[0m         \u001b[0margs\u001b[0m\u001b[0;34m,\u001b[0m\u001b[0;34m\u001b[0m\u001b[0;34m\u001b[0m\u001b[0m\n",
            "\u001b[0;32m/usr/local/lib/python3.7/dist-packages/tensorflow/python/eager/function.py\u001b[0m in \u001b[0;36mcall\u001b[0;34m(self, ctx, args, cancellation_manager)\u001b[0m\n\u001b[1;32m    601\u001b[0m               \u001b[0minputs\u001b[0m\u001b[0;34m=\u001b[0m\u001b[0margs\u001b[0m\u001b[0;34m,\u001b[0m\u001b[0;34m\u001b[0m\u001b[0;34m\u001b[0m\u001b[0m\n\u001b[1;32m    602\u001b[0m               \u001b[0mattrs\u001b[0m\u001b[0;34m=\u001b[0m\u001b[0mattrs\u001b[0m\u001b[0;34m,\u001b[0m\u001b[0;34m\u001b[0m\u001b[0;34m\u001b[0m\u001b[0m\n\u001b[0;32m--> 603\u001b[0;31m               ctx=ctx)\n\u001b[0m\u001b[1;32m    604\u001b[0m         \u001b[0;32melse\u001b[0m\u001b[0;34m:\u001b[0m\u001b[0;34m\u001b[0m\u001b[0;34m\u001b[0m\u001b[0m\n\u001b[1;32m    605\u001b[0m           outputs = execute.execute_with_cancellation(\n",
            "\u001b[0;32m/usr/local/lib/python3.7/dist-packages/tensorflow/python/eager/execute.py\u001b[0m in \u001b[0;36mquick_execute\u001b[0;34m(op_name, num_outputs, inputs, attrs, ctx, name)\u001b[0m\n\u001b[1;32m     57\u001b[0m     \u001b[0mctx\u001b[0m\u001b[0;34m.\u001b[0m\u001b[0mensure_initialized\u001b[0m\u001b[0;34m(\u001b[0m\u001b[0;34m)\u001b[0m\u001b[0;34m\u001b[0m\u001b[0;34m\u001b[0m\u001b[0m\n\u001b[1;32m     58\u001b[0m     tensors = pywrap_tfe.TFE_Py_Execute(ctx._handle, device_name, op_name,\n\u001b[0;32m---> 59\u001b[0;31m                                         inputs, attrs, num_outputs)\n\u001b[0m\u001b[1;32m     60\u001b[0m   \u001b[0;32mexcept\u001b[0m \u001b[0mcore\u001b[0m\u001b[0;34m.\u001b[0m\u001b[0m_NotOkStatusException\u001b[0m \u001b[0;32mas\u001b[0m \u001b[0me\u001b[0m\u001b[0;34m:\u001b[0m\u001b[0;34m\u001b[0m\u001b[0;34m\u001b[0m\u001b[0m\n\u001b[1;32m     61\u001b[0m     \u001b[0;32mif\u001b[0m \u001b[0mname\u001b[0m \u001b[0;32mis\u001b[0m \u001b[0;32mnot\u001b[0m \u001b[0;32mNone\u001b[0m\u001b[0;34m:\u001b[0m\u001b[0;34m\u001b[0m\u001b[0;34m\u001b[0m\u001b[0m\n",
            "\u001b[0;31mKeyboardInterrupt\u001b[0m: "
          ]
        }
      ]
    },
    {
      "cell_type": "code",
      "source": [
        "preds = np.array(preds)"
      ],
      "metadata": {
        "id": "YzGuziJDgwcK"
      },
      "execution_count": null,
      "outputs": []
    },
    {
      "cell_type": "code",
      "source": [
        "final_preds = []\n",
        "for i in range(preds[0].shape[0]):\n",
        "  inter = []\n",
        "  for j in range(10):\n",
        "    inter.append(preds[j][i])\n",
        "  ans = np.bincount(inter).argmax()\n",
        "  final_preds.append(ans)\n"
      ],
      "metadata": {
        "id": "woZMMoZAjrQj"
      },
      "execution_count": null,
      "outputs": []
    },
    {
      "cell_type": "code",
      "source": [
        "final_preds = np.array(final_preds)"
      ],
      "metadata": {
        "id": "L_fB7ISFjvFi"
      },
      "execution_count": null,
      "outputs": []
    },
    {
      "cell_type": "code",
      "source": [
        "(np.sum( np.argmax(y_test,axis=1) == final_preds) / final_preds.shape[0]) * 100"
      ],
      "metadata": {
        "colab": {
          "base_uri": "https://localhost:8080/"
        },
        "id": "L_-3pmHmkAP2",
        "outputId": "13071e01-8589-4da2-bfdf-dbca04d5dd40"
      },
      "execution_count": null,
      "outputs": [
        {
          "output_type": "execute_result",
          "data": {
            "text/plain": [
              "64.92999999999999"
            ]
          },
          "metadata": {},
          "execution_count": 97
        }
      ]
    },
    {
      "cell_type": "code",
      "source": [
        "np.argmax(y_test,axis=1).shape"
      ],
      "metadata": {
        "id": "Q4zeq5KHkAx5",
        "colab": {
          "base_uri": "https://localhost:8080/"
        },
        "outputId": "0c3bf337-96a1-4e53-d146-5323ce07e247"
      },
      "execution_count": null,
      "outputs": [
        {
          "output_type": "execute_result",
          "data": {
            "text/plain": [
              "(10000,)"
            ]
          },
          "metadata": {},
          "execution_count": 98
        }
      ]
    },
    {
      "cell_type": "code",
      "source": [
        "models"
      ],
      "metadata": {
        "colab": {
          "base_uri": "https://localhost:8080/"
        },
        "id": "sRdltxO8-WIb",
        "outputId": "f063a64e-105b-48b4-b900-87773efd531f"
      },
      "execution_count": null,
      "outputs": [
        {
          "output_type": "execute_result",
          "data": {
            "text/plain": [
              "array([<keras.engine.sequential.Sequential object at 0x7f05069b5490>,\n",
              "       <keras.engine.sequential.Sequential object at 0x7f050b7f9b90>,\n",
              "       <keras.engine.sequential.Sequential object at 0x7f050b3d8a50>,\n",
              "       <keras.engine.sequential.Sequential object at 0x7f050b13ca90>,\n",
              "       <keras.engine.sequential.Sequential object at 0x7f050b11f990>,\n",
              "       <keras.engine.sequential.Sequential object at 0x7f05b1a33f10>,\n",
              "       <keras.engine.sequential.Sequential object at 0x7f05ac253e10>,\n",
              "       <keras.engine.sequential.Sequential object at 0x7f05a67c1610>,\n",
              "       <keras.engine.sequential.Sequential object at 0x7f059c1e2dd0>,\n",
              "       <keras.engine.sequential.Sequential object at 0x7f059bda6350>],\n",
              "      dtype=object)"
            ]
          },
          "metadata": {},
          "execution_count": 99
        }
      ]
    },
    {
      "cell_type": "code",
      "source": [
        "# data_in_x = []\n",
        "# data_in_y = []\n",
        "# data_out_x = \n",
        "# data_out_y = \n",
        "predictions = []\n",
        "true = []\n",
        "var=0\n",
        "for i in range(0, x_train.shape[0], 5000):\n",
        "  curr_x_train = x_train[i:(i+5000)]\n",
        "  curr_y_train = y_train[i:(i+5000)]\n",
        "  # print(curr_x_train.shape)\n",
        "  if i//5000==0:\n",
        "    n1 = 3\n",
        "    n2 = 10\n",
        "  if i//5000==1:\n",
        "    n1 = 4\n",
        "    n2 = 6\n",
        "  if i//5000==2:\n",
        "    n1 = 6\n",
        "    n2 = 7\n",
        "  if i//5000==3:\n",
        "    n1 = 9\n",
        "    n2 = 10\n",
        "  if i//5000==4:\n",
        "    n1 = 11\n",
        "    n2 = 12\n",
        "  if i//5000==5:\n",
        "    n1 = 13\n",
        "    n2 = 18\n",
        "  if i//5000==6:\n",
        "    n1 = 8\n",
        "    n2 = 9\n",
        "  if i//5000==7:\n",
        "    n1 = 4\n",
        "    n2 =5\n",
        "  if i//5000==8:\n",
        "    n1 = 12\n",
        "    n2 = 19\n",
        "  if i//5000==9:\n",
        "    n1 = 2\n",
        "    n2 = 4\n",
        "  for j in range(250, curr_x_train.shape[0], 250):\n",
        "    x = j+1\n",
        "    # x1 = 250 * (x-1)\n",
        "    # x2 = 250 * (x)\n",
        "    if((int)(j/250)== n1 or (int)(j/250)==n2):\n",
        "      print(\"true\")\n",
        "    else:\n",
        "      print(( (int)(i/5000) ))\n",
        "      m = models[((int)(i/5000))]\n",
        "      # print(x1)\n",
        "      # print(x2)\n",
        "      print(curr_x_train[x1:x2].shape)\n",
        "      preds = m.predict(curr_x_train[j-250:j])\n",
        "      dy = curr_y_train[j-250:j]\n",
        "      for k in range(len(preds)):\n",
        "        predictions.append(preds[k])\n",
        "        true.append(dy[k])\n",
        "      \n",
        "\n",
        "  # if var:\n",
        "  #   break\n",
        "  \n",
        "\n"
      ],
      "metadata": {
        "colab": {
          "base_uri": "https://localhost:8080/"
        },
        "id": "hab_28Yo5ca5",
        "outputId": "6bdb6102-d166-4a12-8725-d4a33c2ac0cb"
      },
      "execution_count": null,
      "outputs": [
        {
          "output_type": "stream",
          "name": "stdout",
          "text": [
            "0\n",
            "(250, 32, 32, 3)\n",
            "0\n",
            "(250, 32, 32, 3)\n",
            "true\n",
            "0\n",
            "(250, 32, 32, 3)\n",
            "0\n",
            "(250, 32, 32, 3)\n",
            "0\n",
            "(250, 32, 32, 3)\n",
            "0\n",
            "(250, 32, 32, 3)\n",
            "0\n",
            "(250, 32, 32, 3)\n",
            "0\n",
            "(250, 32, 32, 3)\n",
            "true\n",
            "0\n",
            "(250, 32, 32, 3)\n",
            "0\n",
            "(250, 32, 32, 3)\n",
            "0\n",
            "(250, 32, 32, 3)\n",
            "0\n",
            "(250, 32, 32, 3)\n",
            "0\n",
            "(250, 32, 32, 3)\n",
            "0\n",
            "(250, 32, 32, 3)\n",
            "0\n",
            "(250, 32, 32, 3)\n",
            "0\n",
            "(250, 32, 32, 3)\n",
            "0\n",
            "(250, 32, 32, 3)\n",
            "1\n",
            "(250, 32, 32, 3)\n",
            "1\n",
            "(250, 32, 32, 3)\n",
            "1\n",
            "(250, 32, 32, 3)\n",
            "true\n",
            "1\n",
            "(250, 32, 32, 3)\n",
            "true\n",
            "1\n",
            "(250, 32, 32, 3)\n",
            "1\n",
            "(250, 32, 32, 3)\n",
            "1\n",
            "(250, 32, 32, 3)\n",
            "1\n",
            "(250, 32, 32, 3)\n",
            "1\n",
            "(250, 32, 32, 3)\n",
            "1\n",
            "(250, 32, 32, 3)\n",
            "1\n",
            "(250, 32, 32, 3)\n",
            "1\n",
            "(250, 32, 32, 3)\n",
            "1\n",
            "(250, 32, 32, 3)\n",
            "1\n",
            "(250, 32, 32, 3)\n",
            "1\n",
            "(250, 32, 32, 3)\n",
            "1\n",
            "(250, 32, 32, 3)\n",
            "1\n",
            "(250, 32, 32, 3)\n",
            "2\n",
            "(250, 32, 32, 3)\n",
            "2\n",
            "(250, 32, 32, 3)\n",
            "2\n",
            "(250, 32, 32, 3)\n",
            "2\n",
            "(250, 32, 32, 3)\n",
            "2\n",
            "(250, 32, 32, 3)\n",
            "true\n",
            "true\n",
            "2\n",
            "(250, 32, 32, 3)\n",
            "2\n",
            "(250, 32, 32, 3)\n",
            "2\n",
            "(250, 32, 32, 3)\n",
            "2\n",
            "(250, 32, 32, 3)\n",
            "2\n",
            "(250, 32, 32, 3)\n",
            "2\n",
            "(250, 32, 32, 3)\n",
            "2\n",
            "(250, 32, 32, 3)\n",
            "2\n",
            "(250, 32, 32, 3)\n",
            "2\n",
            "(250, 32, 32, 3)\n",
            "2\n",
            "(250, 32, 32, 3)\n",
            "2\n",
            "(250, 32, 32, 3)\n",
            "2\n",
            "(250, 32, 32, 3)\n",
            "3\n",
            "(250, 32, 32, 3)\n",
            "3\n",
            "(250, 32, 32, 3)\n",
            "3\n",
            "(250, 32, 32, 3)\n",
            "3\n",
            "(250, 32, 32, 3)\n",
            "3\n",
            "(250, 32, 32, 3)\n",
            "3\n",
            "(250, 32, 32, 3)\n",
            "3\n",
            "(250, 32, 32, 3)\n",
            "3\n",
            "(250, 32, 32, 3)\n",
            "true\n",
            "true\n",
            "3\n",
            "(250, 32, 32, 3)\n",
            "3\n",
            "(250, 32, 32, 3)\n",
            "3\n",
            "(250, 32, 32, 3)\n",
            "3\n",
            "(250, 32, 32, 3)\n",
            "3\n",
            "(250, 32, 32, 3)\n",
            "3\n",
            "(250, 32, 32, 3)\n",
            "3\n",
            "(250, 32, 32, 3)\n",
            "3\n",
            "(250, 32, 32, 3)\n",
            "3\n",
            "(250, 32, 32, 3)\n",
            "4\n",
            "(250, 32, 32, 3)\n",
            "4\n",
            "(250, 32, 32, 3)\n",
            "4\n",
            "(250, 32, 32, 3)\n",
            "4\n",
            "(250, 32, 32, 3)\n",
            "4\n",
            "(250, 32, 32, 3)\n",
            "4\n",
            "(250, 32, 32, 3)\n",
            "4\n",
            "(250, 32, 32, 3)\n",
            "4\n",
            "(250, 32, 32, 3)\n",
            "4\n",
            "(250, 32, 32, 3)\n",
            "4\n",
            "(250, 32, 32, 3)\n",
            "true\n",
            "true\n",
            "4\n",
            "(250, 32, 32, 3)\n",
            "4\n",
            "(250, 32, 32, 3)\n",
            "4\n",
            "(250, 32, 32, 3)\n",
            "4\n",
            "(250, 32, 32, 3)\n",
            "4\n",
            "(250, 32, 32, 3)\n",
            "4\n",
            "(250, 32, 32, 3)\n",
            "4\n",
            "(250, 32, 32, 3)\n",
            "5\n",
            "(250, 32, 32, 3)\n",
            "5\n",
            "(250, 32, 32, 3)\n",
            "5\n",
            "(250, 32, 32, 3)\n",
            "5\n",
            "(250, 32, 32, 3)\n",
            "5\n",
            "(250, 32, 32, 3)\n",
            "5\n",
            "(250, 32, 32, 3)\n",
            "5\n",
            "(250, 32, 32, 3)\n",
            "5\n",
            "(250, 32, 32, 3)\n",
            "5\n",
            "(250, 32, 32, 3)\n",
            "5\n",
            "(250, 32, 32, 3)\n",
            "5\n",
            "(250, 32, 32, 3)\n",
            "5\n",
            "(250, 32, 32, 3)\n",
            "true\n",
            "5\n",
            "(250, 32, 32, 3)\n",
            "5\n",
            "(250, 32, 32, 3)\n",
            "5\n",
            "(250, 32, 32, 3)\n",
            "5\n",
            "(250, 32, 32, 3)\n",
            "true\n",
            "5\n",
            "(250, 32, 32, 3)\n",
            "6\n",
            "(250, 32, 32, 3)\n",
            "6\n",
            "(250, 32, 32, 3)\n",
            "6\n",
            "(250, 32, 32, 3)\n",
            "6\n",
            "(250, 32, 32, 3)\n",
            "6\n",
            "(250, 32, 32, 3)\n",
            "6\n",
            "(250, 32, 32, 3)\n",
            "6\n",
            "(250, 32, 32, 3)\n",
            "true\n",
            "true\n",
            "6\n",
            "(250, 32, 32, 3)\n",
            "6\n",
            "(250, 32, 32, 3)\n",
            "6\n",
            "(250, 32, 32, 3)\n",
            "6\n",
            "(250, 32, 32, 3)\n",
            "6\n",
            "(250, 32, 32, 3)\n",
            "6\n",
            "(250, 32, 32, 3)\n",
            "6\n",
            "(250, 32, 32, 3)\n",
            "6\n",
            "(250, 32, 32, 3)\n",
            "6\n",
            "(250, 32, 32, 3)\n",
            "6\n",
            "(250, 32, 32, 3)\n",
            "7\n",
            "(250, 32, 32, 3)\n",
            "7\n",
            "(250, 32, 32, 3)\n",
            "7\n",
            "(250, 32, 32, 3)\n",
            "true\n",
            "true\n",
            "7\n",
            "(250, 32, 32, 3)\n",
            "7\n",
            "(250, 32, 32, 3)\n",
            "7\n",
            "(250, 32, 32, 3)\n",
            "7\n",
            "(250, 32, 32, 3)\n",
            "7\n",
            "(250, 32, 32, 3)\n",
            "7\n",
            "(250, 32, 32, 3)\n",
            "7\n",
            "(250, 32, 32, 3)\n",
            "7\n",
            "(250, 32, 32, 3)\n",
            "7\n",
            "(250, 32, 32, 3)\n",
            "7\n",
            "(250, 32, 32, 3)\n",
            "7\n",
            "(250, 32, 32, 3)\n",
            "7\n",
            "(250, 32, 32, 3)\n",
            "7\n",
            "(250, 32, 32, 3)\n",
            "7\n",
            "(250, 32, 32, 3)\n",
            "8\n",
            "(250, 32, 32, 3)\n",
            "8\n",
            "(250, 32, 32, 3)\n",
            "8\n",
            "(250, 32, 32, 3)\n",
            "8\n",
            "(250, 32, 32, 3)\n",
            "8\n",
            "(250, 32, 32, 3)\n",
            "8\n",
            "(250, 32, 32, 3)\n",
            "8\n",
            "(250, 32, 32, 3)\n",
            "8\n",
            "(250, 32, 32, 3)\n",
            "8\n",
            "(250, 32, 32, 3)\n",
            "8\n",
            "(250, 32, 32, 3)\n",
            "8\n",
            "(250, 32, 32, 3)\n",
            "true\n",
            "8\n",
            "(250, 32, 32, 3)\n",
            "8\n",
            "(250, 32, 32, 3)\n",
            "8\n",
            "(250, 32, 32, 3)\n",
            "8\n",
            "(250, 32, 32, 3)\n",
            "8\n",
            "(250, 32, 32, 3)\n",
            "8\n",
            "(250, 32, 32, 3)\n",
            "true\n",
            "9\n",
            "(250, 32, 32, 3)\n",
            "true\n",
            "9\n",
            "(250, 32, 32, 3)\n",
            "true\n",
            "9\n",
            "(250, 32, 32, 3)\n",
            "9\n",
            "(250, 32, 32, 3)\n",
            "9\n",
            "(250, 32, 32, 3)\n",
            "9\n",
            "(250, 32, 32, 3)\n",
            "9\n",
            "(250, 32, 32, 3)\n",
            "9\n",
            "(250, 32, 32, 3)\n",
            "9\n",
            "(250, 32, 32, 3)\n",
            "9\n",
            "(250, 32, 32, 3)\n",
            "9\n",
            "(250, 32, 32, 3)\n",
            "9\n",
            "(250, 32, 32, 3)\n",
            "9\n",
            "(250, 32, 32, 3)\n",
            "9\n",
            "(250, 32, 32, 3)\n",
            "9\n",
            "(250, 32, 32, 3)\n",
            "9\n",
            "(250, 32, 32, 3)\n",
            "9\n",
            "(250, 32, 32, 3)\n"
          ]
        }
      ]
    },
    {
      "cell_type": "code",
      "source": [
        "predictions = np.array(predictions)\n",
        "true = np.array(true)"
      ],
      "metadata": {
        "id": "lDgH39_x-yqp"
      },
      "execution_count": null,
      "outputs": []
    },
    {
      "cell_type": "code",
      "source": [
        "predictions.shape"
      ],
      "metadata": {
        "colab": {
          "base_uri": "https://localhost:8080/"
        },
        "id": "PZ3o1QODBIRs",
        "outputId": "98fea94a-2c03-4272-cb1e-7995dbf37c9f"
      },
      "execution_count": null,
      "outputs": [
        {
          "output_type": "execute_result",
          "data": {
            "text/plain": [
              "(42500, 10)"
            ]
          },
          "metadata": {},
          "execution_count": 124
        }
      ]
    },
    {
      "cell_type": "code",
      "source": [
        "true.shape"
      ],
      "metadata": {
        "colab": {
          "base_uri": "https://localhost:8080/"
        },
        "id": "x1koBlCZBJio",
        "outputId": "7830c521-0dbf-4320-ffc5-1cdb21f7eda5"
      },
      "execution_count": null,
      "outputs": [
        {
          "output_type": "execute_result",
          "data": {
            "text/plain": [
              "(42500, 10)"
            ]
          },
          "metadata": {},
          "execution_count": 125
        }
      ]
    },
    {
      "cell_type": "code",
      "source": [
        "predictions = np.argmax(predictions, axis=1)\n",
        "true = np.argmax(true, axis=1)"
      ],
      "metadata": {
        "id": "3z6j1Gl5WRMh"
      },
      "execution_count": null,
      "outputs": []
    },
    {
      "cell_type": "code",
      "source": [
        "np.sum(predictions == true)/true.shape[0]"
      ],
      "metadata": {
        "colab": {
          "base_uri": "https://localhost:8080/"
        },
        "id": "ltCkbOb7WX9r",
        "outputId": "dad205df-a418-4fb6-9976-174ea8040841"
      },
      "execution_count": null,
      "outputs": [
        {
          "output_type": "execute_result",
          "data": {
            "text/plain": [
              "0.9997882352941176"
            ]
          },
          "metadata": {},
          "execution_count": 127
        }
      ]
    },
    {
      "cell_type": "code",
      "source": [
        "\n",
        "predictions1 = []\n",
        "true1 = []\n",
        "var=0\n",
        "for i in range(0, x_train.shape[0], 5000):\n",
        "  curr_x_train = x_train[i:(i+5000)]\n",
        "  curr_y_train = y_train[i:(i+5000)]\n",
        "  # print(curr_x_train.shape)\n",
        "  if i//5000==0:\n",
        "    n1 = 3\n",
        "    n2 = 10\n",
        "  if i//5000==1:\n",
        "    n1 = 4\n",
        "    n2 = 6\n",
        "  if i//5000==2:\n",
        "    n1 = 6\n",
        "    n2 = 7\n",
        "  if i//5000==3:\n",
        "    n1 = 9\n",
        "    n2 = 10\n",
        "  if i//5000==4:\n",
        "    n1 = 11\n",
        "    n2 = 12\n",
        "  if i//5000==5:\n",
        "    n1 = 13\n",
        "    n2 = 18\n",
        "  if i//5000==6:\n",
        "    n1 = 8\n",
        "    n2 = 9\n",
        "  if i//5000==7:\n",
        "    n1 = 4\n",
        "    n2 =5\n",
        "  if i//5000==8:\n",
        "    n1 = 12\n",
        "    n2 = 19\n",
        "  if i//5000==9:\n",
        "    n1 = 2\n",
        "    n2 = 4\n",
        "  for j in range(250, curr_x_train.shape[0], 250):\n",
        "    x = j+1\n",
        "    # x1 = 250 * (x-1)\n",
        "    # x2 = 250 * (x)\n",
        "    if not ((int)(j/250)== n1 or (int)(j/250)==n2):\n",
        "      print(\"true\")\n",
        "    else:\n",
        "      print(( (int)(i/5000) ))\n",
        "      m = models[((int)(i/5000))]\n",
        "      # print(x1)\n",
        "      # print(x2)\n",
        "      print(curr_x_train[x1:x2].shape)\n",
        "      preds = m.predict(curr_x_train[j-250:j])\n",
        "      dy = curr_y_train[j-250:j]\n",
        "      for k in range(len(preds)):\n",
        "        predictions1.append(preds[k])\n",
        "        true1.append(dy[k])\n",
        "      \n",
        "\n",
        "  # if var:\n",
        "  #   break\n",
        "  \n",
        "\n"
      ],
      "metadata": {
        "colab": {
          "base_uri": "https://localhost:8080/"
        },
        "id": "Mk1dSLRHWbcb",
        "outputId": "3f895d5a-0b95-491e-907b-b4f5c29d6da5"
      },
      "execution_count": null,
      "outputs": [
        {
          "output_type": "stream",
          "name": "stdout",
          "text": [
            "true\n",
            "true\n",
            "0\n",
            "(250, 32, 32, 3)\n",
            "true\n",
            "true\n",
            "true\n",
            "true\n",
            "true\n",
            "true\n",
            "0\n",
            "(250, 32, 32, 3)\n",
            "true\n",
            "true\n",
            "true\n",
            "true\n",
            "true\n",
            "true\n",
            "true\n",
            "true\n",
            "true\n",
            "true\n",
            "true\n",
            "true\n",
            "1\n",
            "(250, 32, 32, 3)\n",
            "true\n",
            "1\n",
            "(250, 32, 32, 3)\n",
            "true\n",
            "true\n",
            "true\n",
            "true\n",
            "true\n",
            "true\n",
            "true\n",
            "true\n",
            "true\n",
            "true\n",
            "true\n",
            "true\n",
            "true\n",
            "true\n",
            "true\n",
            "true\n",
            "true\n",
            "true\n",
            "2\n",
            "(250, 32, 32, 3)\n",
            "2\n",
            "(250, 32, 32, 3)\n",
            "true\n",
            "true\n",
            "true\n",
            "true\n",
            "true\n",
            "true\n",
            "true\n",
            "true\n",
            "true\n",
            "true\n",
            "true\n",
            "true\n",
            "true\n",
            "true\n",
            "true\n",
            "true\n",
            "true\n",
            "true\n",
            "true\n",
            "true\n",
            "3\n",
            "(250, 32, 32, 3)\n",
            "3\n",
            "(250, 32, 32, 3)\n",
            "true\n",
            "true\n",
            "true\n",
            "true\n",
            "true\n",
            "true\n",
            "true\n",
            "true\n",
            "true\n",
            "true\n",
            "true\n",
            "true\n",
            "true\n",
            "true\n",
            "true\n",
            "true\n",
            "true\n",
            "true\n",
            "true\n",
            "4\n",
            "(250, 32, 32, 3)\n",
            "4\n",
            "(250, 32, 32, 3)\n",
            "true\n",
            "true\n",
            "true\n",
            "true\n",
            "true\n",
            "true\n",
            "true\n",
            "true\n",
            "true\n",
            "true\n",
            "true\n",
            "true\n",
            "true\n",
            "true\n",
            "true\n",
            "true\n",
            "true\n",
            "true\n",
            "true\n",
            "5\n",
            "(250, 32, 32, 3)\n",
            "true\n",
            "true\n",
            "true\n",
            "true\n",
            "5\n",
            "(250, 32, 32, 3)\n",
            "true\n",
            "true\n",
            "true\n",
            "true\n",
            "true\n",
            "true\n",
            "true\n",
            "true\n",
            "6\n",
            "(250, 32, 32, 3)\n",
            "6\n",
            "(250, 32, 32, 3)\n",
            "true\n",
            "true\n",
            "true\n",
            "true\n",
            "true\n",
            "true\n",
            "true\n",
            "true\n",
            "true\n",
            "true\n",
            "true\n",
            "true\n",
            "true\n",
            "7\n",
            "(250, 32, 32, 3)\n",
            "7\n",
            "(250, 32, 32, 3)\n",
            "true\n",
            "true\n",
            "true\n",
            "true\n",
            "true\n",
            "true\n",
            "true\n",
            "true\n",
            "true\n",
            "true\n",
            "true\n",
            "true\n",
            "true\n",
            "true\n",
            "true\n",
            "true\n",
            "true\n",
            "true\n",
            "true\n",
            "true\n",
            "true\n",
            "true\n",
            "true\n",
            "true\n",
            "true\n",
            "8\n",
            "(250, 32, 32, 3)\n",
            "true\n",
            "true\n",
            "true\n",
            "true\n",
            "true\n",
            "true\n",
            "8\n",
            "(250, 32, 32, 3)\n",
            "true\n",
            "9\n",
            "(250, 32, 32, 3)\n",
            "true\n",
            "9\n",
            "(250, 32, 32, 3)\n",
            "true\n",
            "true\n",
            "true\n",
            "true\n",
            "true\n",
            "true\n",
            "true\n",
            "true\n",
            "true\n",
            "true\n",
            "true\n",
            "true\n",
            "true\n",
            "true\n",
            "true\n"
          ]
        }
      ]
    },
    {
      "cell_type": "code",
      "source": [
        "predictions1 = np.array(predictions1)\n",
        "true1 = np.array(true1)"
      ],
      "metadata": {
        "id": "Y87g_Xz1Wvhd"
      },
      "execution_count": null,
      "outputs": []
    },
    {
      "cell_type": "code",
      "source": [
        "predictions1 = np.argmax(predictions1, axis=1)\n",
        "true1 = np.argmax(true1, axis=1)"
      ],
      "metadata": {
        "id": "T2kgbTGfW5bP"
      },
      "execution_count": null,
      "outputs": []
    },
    {
      "cell_type": "code",
      "source": [
        "np.sum(predictions1 == true1)/true1.shape[0]"
      ],
      "metadata": {
        "colab": {
          "base_uri": "https://localhost:8080/"
        },
        "id": "_qhHJNeTW5sP",
        "outputId": "f4b43fcd-f156-4e39-c4d9-767dc7581b92"
      },
      "execution_count": null,
      "outputs": [
        {
          "output_type": "execute_result",
          "data": {
            "text/plain": [
              "0.9756"
            ]
          },
          "metadata": {},
          "execution_count": 131
        }
      ]
    },
    {
      "cell_type": "code",
      "source": [
        ""
      ],
      "metadata": {
        "id": "R2Lzr5JJW_2J"
      },
      "execution_count": null,
      "outputs": []
    }
  ]
}