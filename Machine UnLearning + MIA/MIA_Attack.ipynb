{
  "cells": [
    {
      "cell_type": "code",
      "execution_count": null,
      "metadata": {
        "id": "Kno4kBM62EKI"
      },
      "outputs": [],
      "source": [
        "import tensorflow as tf\n",
        "import keras\n",
        "import sys\n",
        "from matplotlib import pyplot\n",
        "from keras.models import Sequential, load_model, Model\n",
        "from tensorflow.keras.datasets import cifar10\n",
        "from tensorflow.keras.utils import to_categorical\n",
        "from tensorflow.keras.models import Sequential\n",
        "from tensorflow.keras.layers import Conv2D, Activation, BatchNormalization\n",
        "from tensorflow.keras.layers import MaxPooling2D, Dropout\n",
        "from tensorflow.keras.layers import Dense, Input, Conv2DTranspose\n",
        "from tensorflow.keras.layers import Flatten, Add, AveragePooling2D, ZeroPadding2D\n",
        "from tensorflow.keras.optimizers import SGD\n",
        "from keras.initializers import glorot_uniform\n",
        "from keras.activations import relu, softmax\n",
        "from keras.callbacks import EarlyStopping, TensorBoard, ModelCheckpoint\n",
        "from tensorflow.keras.utils import plot_model\n",
        "from keras.utils.vis_utils import model_to_dot\n",
        "from keras import backend as K\n",
        "from sklearn.metrics import confusion_matrix\n",
        "from matplotlib import animation, rc\n",
        "import matplotlib.patches as mpatches\n",
        "from IPython.display import HTML, display, clear_output, SVG\n",
        "from tensorflow.keras.optimizers import Adadelta\n",
        "import ipywidgets as widgets\n",
        "from tensorflow.keras.applications.resnet50 import ResNet50\n",
        "import random"
      ]
    },
    {
      "cell_type": "code",
      "execution_count": null,
      "metadata": {
        "id": "0VBi3UMd2KkS"
      },
      "outputs": [],
      "source": [
        "import numpy as np\n",
        "from scipy import stats"
      ]
    },
    {
      "cell_type": "code",
      "execution_count": null,
      "metadata": {
        "id": "klqpLmYh2M6_"
      },
      "outputs": [],
      "source": [
        "\n",
        "def load_dataset():\n",
        "\t# load dataset\n",
        "\n",
        "\t(trainX, trainY), (testX, testY) = cifar10.load_data()\n",
        "\t# one hot encode target values\n",
        "\ttrainY = to_categorical(trainY)\n",
        "\ttestY = to_categorical(testY)\n",
        "\treturn trainX, trainY, testX, testY"
      ]
    },
    {
      "cell_type": "code",
      "execution_count": null,
      "metadata": {
        "id": "hgXqvSyZ2ONY"
      },
      "outputs": [],
      "source": [
        "def model():\n",
        "\tbase_model = ResNet50(include_top=False, input_shape=(128, 128, 3), pooling='max')\n",
        "\t\n",
        "\t# for layer in base_model.layers:\n",
        "\t# \tlayer.trainable = False\n",
        "\tmodel = Sequential()\n",
        "\tmodel.add(Conv2DTranspose(3, (3, 3), strides=2, padding='same', activation='relu', input_shape=(32,32,3)))\n",
        "\tmodel.add(BatchNormalization())\n",
        "\tmodel.add(Conv2DTranspose(3, (3, 3), strides=2, padding='same', activation='relu'))\n",
        "\tmodel.add(BatchNormalization())\n",
        "\tmodel.add(base_model)\n",
        "\tmodel.add(Flatten())\n",
        "\tmodel.add(Dense(1024, activation='relu'))\n",
        "\tmodel.add(Dense(512, activation='relu'))\n",
        "\tmodel.add(Dense(10, activation='softmax'))\n",
        "\topt = SGD(lr=0.001, momentum=0.9)\n",
        "\tmodel.compile(optimizer=opt, loss='categorical_crossentropy', metrics=['accuracy'])\n",
        "\t\n",
        "\treturn model\n",
        "\n",
        "# define cnn model\n",
        "def define_model():\n",
        "\tmodel = Sequential()\n",
        "\tmodel.add(Conv2D(32, (3, 3), activation='relu', kernel_initializer='he_uniform', padding='same', input_shape=(32, 32, 3)))\n",
        "\tmodel.add(Conv2D(32, (3, 3), activation='relu', kernel_initializer='he_uniform', padding='same'))\n",
        "\tmodel.add(MaxPooling2D((2, 2)))\n",
        "\tmodel.add(Flatten())\n",
        "\tmodel.add(Dense(128, activation='relu', kernel_initializer='he_uniform'))\n",
        "\tmodel.add(Dense(10, activation='softmax'))\n",
        "\t# compile model\n",
        "\topt = SGD(lr=0.001, momentum=0.9)\n",
        "\tmodel.compile(optimizer=opt, loss='categorical_crossentropy', metrics=['accuracy'])\n",
        "\treturn model"
      ]
    },
    {
      "cell_type": "code",
      "execution_count": null,
      "metadata": {
        "id": "xp1avVmQ2PiI"
      },
      "outputs": [],
      "source": [
        "def prep_pixels(train, test):\n",
        "\t# convert from integers to floats\n",
        "\ttrain_norm = train.astype('float32')\n",
        "\ttest_norm = test.astype('float32')\n",
        "\t# normalize to range 0-1\n",
        "\ttrain_norm = train_norm / 255.0\n",
        "\ttest_norm = test_norm / 255.0\n",
        "\t# return normalized images\n",
        "\treturn train_norm, test_norm"
      ]
    },
    {
      "cell_type": "code",
      "execution_count": null,
      "metadata": {
        "id": "fZvXKcqn2RBv"
      },
      "outputs": [],
      "source": [
        "def preprocess_image_input(input_images):\n",
        "\tinput_images = input_images.astype('float32')\n",
        "\toutput_ims = tf.keras.applications.resnet50.preprocess_input(input_images)\n",
        "\treturn output_ims\n"
      ]
    },
    {
      "cell_type": "code",
      "execution_count": null,
      "metadata": {
        "colab": {
          "base_uri": "https://localhost:8080/"
        },
        "id": "rHopUcj82S-E",
        "outputId": "314fa575-acb7-4ba8-9e86-2fb5faed09b4"
      },
      "outputs": [
        {
          "name": "stdout",
          "output_type": "stream",
          "text": [
            "Downloading data from https://www.cs.toronto.edu/~kriz/cifar-10-python.tar.gz\n",
            "170500096/170498071 [==============================] - 11s 0us/step\n",
            "170508288/170498071 [==============================] - 11s 0us/step\n"
          ]
        }
      ],
      "source": [
        "x_train, y_train, x_test, y_test = load_dataset()"
      ]
    },
    {
      "cell_type": "code",
      "execution_count": null,
      "metadata": {
        "id": "3xsbJ6K02Uhl"
      },
      "outputs": [],
      "source": [
        "x_train = preprocess_image_input(x_train)\n",
        "x_test = preprocess_image_input(x_test)\n",
        "# x_train,x_test = prep_pixels(x_train,x_test)\n",
        "# x_test = preprocess_image_input(x_test)"
      ]
    },
    {
      "cell_type": "code",
      "execution_count": null,
      "metadata": {
        "colab": {
          "base_uri": "https://localhost:8080/"
        },
        "id": "vXYEBAy52V_D",
        "outputId": "c0984077-95b3-4ec5-cd14-239fb7ba1107"
      },
      "outputs": [
        {
          "name": "stdout",
          "output_type": "stream",
          "text": [
            "Downloading data from https://storage.googleapis.com/tensorflow/keras-applications/resnet/resnet50_weights_tf_dim_ordering_tf_kernels_notop.h5\n",
            "94773248/94765736 [==============================] - 1s 0us/step\n",
            "94781440/94765736 [==============================] - 1s 0us/step\n"
          ]
        },
        {
          "name": "stderr",
          "output_type": "stream",
          "text": [
            "/usr/local/lib/python3.7/dist-packages/keras/optimizer_v2/gradient_descent.py:102: UserWarning: The `lr` argument is deprecated, use `learning_rate` instead.\n",
            "  super(SGD, self).__init__(name, **kwargs)\n"
          ]
        },
        {
          "name": "stdout",
          "output_type": "stream",
          "text": [
            "Epoch 1/20\n",
            "782/782 [==============================] - 119s 135ms/step - loss: 0.9049 - accuracy: 0.7015 - val_loss: 1.8692 - val_accuracy: 0.4341\n",
            "Epoch 2/20\n",
            "782/782 [==============================] - 104s 133ms/step - loss: 0.3236 - accuracy: 0.8897 - val_loss: 0.3658 - val_accuracy: 0.8722\n",
            "Epoch 3/20\n",
            "782/782 [==============================] - 104s 133ms/step - loss: 0.1323 - accuracy: 0.9552 - val_loss: 0.3818 - val_accuracy: 0.8853\n",
            "Epoch 4/20\n",
            "782/782 [==============================] - 104s 132ms/step - loss: 0.0493 - accuracy: 0.9841 - val_loss: 0.4338 - val_accuracy: 0.8872\n",
            "Epoch 5/20\n",
            "782/782 [==============================] - 104s 132ms/step - loss: 0.0266 - accuracy: 0.9917 - val_loss: 0.4649 - val_accuracy: 0.8889\n",
            "Epoch 6/20\n",
            "782/782 [==============================] - 104s 132ms/step - loss: 0.0170 - accuracy: 0.9949 - val_loss: 0.4932 - val_accuracy: 0.8904\n",
            "Epoch 7/20\n",
            "782/782 [==============================] - 104s 133ms/step - loss: 0.0095 - accuracy: 0.9973 - val_loss: 0.4976 - val_accuracy: 0.8960\n",
            "Epoch 8/20\n",
            "782/782 [==============================] - 104s 133ms/step - loss: 0.0091 - accuracy: 0.9971 - val_loss: 0.5313 - val_accuracy: 0.8929\n",
            "Epoch 9/20\n",
            "782/782 [==============================] - 104s 133ms/step - loss: 0.0067 - accuracy: 0.9981 - val_loss: 0.5297 - val_accuracy: 0.8980\n",
            "Epoch 10/20\n",
            "782/782 [==============================] - 104s 133ms/step - loss: 0.0110 - accuracy: 0.9965 - val_loss: 0.5430 - val_accuracy: 0.8946\n",
            "Epoch 11/20\n",
            "782/782 [==============================] - 103s 132ms/step - loss: 0.0066 - accuracy: 0.9981 - val_loss: 0.5260 - val_accuracy: 0.8961\n",
            "Epoch 12/20\n",
            "782/782 [==============================] - 104s 133ms/step - loss: 0.0073 - accuracy: 0.9975 - val_loss: 0.5528 - val_accuracy: 0.8968\n",
            "Epoch 13/20\n",
            "782/782 [==============================] - 104s 132ms/step - loss: 0.0051 - accuracy: 0.9984 - val_loss: 0.5599 - val_accuracy: 0.8980\n",
            "Epoch 14/20\n",
            "782/782 [==============================] - 104s 132ms/step - loss: 0.0058 - accuracy: 0.9982 - val_loss: 0.5704 - val_accuracy: 0.8965\n",
            "Epoch 15/20\n",
            "782/782 [==============================] - 104s 132ms/step - loss: 0.0047 - accuracy: 0.9985 - val_loss: 0.5688 - val_accuracy: 0.8993\n",
            "Epoch 16/20\n",
            "782/782 [==============================] - 103s 132ms/step - loss: 0.0051 - accuracy: 0.9983 - val_loss: 0.6195 - val_accuracy: 0.8937\n",
            "Epoch 17/20\n",
            "782/782 [==============================] - 103s 132ms/step - loss: 0.0039 - accuracy: 0.9988 - val_loss: 0.5755 - val_accuracy: 0.8998\n",
            "Epoch 18/20\n",
            "782/782 [==============================] - 104s 132ms/step - loss: 0.0023 - accuracy: 0.9993 - val_loss: 0.5782 - val_accuracy: 0.8987\n",
            "Epoch 19/20\n",
            "782/782 [==============================] - 104s 132ms/step - loss: 0.0065 - accuracy: 0.9980 - val_loss: 0.6002 - val_accuracy: 0.8963\n",
            "Epoch 20/20\n",
            "782/782 [==============================] - 104s 132ms/step - loss: 0.0079 - accuracy: 0.9974 - val_loss: 0.5768 - val_accuracy: 0.8970\n"
          ]
        }
      ],
      "source": [
        "model = model()\n",
        "# x_train = x_train[0:1000]\n",
        "# x_test = x_test[0:1000]\n",
        "# y_train = y_train[0:1000]\n",
        "# y_test = y_test[0:1000]\n",
        "hist = model.fit(x_train, y_train, validation_data=(x_test, y_test), epochs = 20, verbose = True, batch_size=64)"
      ]
    },
    {
      "cell_type": "code",
      "execution_count": null,
      "metadata": {
        "colab": {
          "base_uri": "https://localhost:8080/",
          "height": 590
        },
        "id": "uYqacG7QMWuC",
        "outputId": "0685afc5-b88c-4fd2-f822-685a9f101ae3"
      },
      "outputs": [
        {
          "name": "stdout",
          "output_type": "stream",
          "text": [
            "dict_keys(['loss', 'accuracy', 'val_loss', 'val_accuracy'])\n"
          ]
        },
        {
          "data": {
            "image/png": "[encoded data removed]",
            "text/plain": [
              "<Figure size 432x288 with 1 Axes>"
            ]
          },
          "metadata": {
            "needs_background": "light"
          },
          "output_type": "display_data"
        },
        {
          "data": {
            "image/png": "[encoded data removed]",
            "text/plain": [
              "<Figure size 432x288 with 1 Axes>"
            ]
          },
          "metadata": {
            "needs_background": "light"
          },
          "output_type": "display_data"
        }
      ],
      "source": [
        "print(hist.history.keys())\n",
        "import matplotlib.pyplot as plt\n",
        "\n",
        "# summarize history for accuracy\n",
        "plt.plot(hist.history['accuracy'])\n",
        "plt.plot(hist.history['val_accuracy'])\n",
        "plt.title('model accuracy')\n",
        "plt.ylabel('accuracy')\n",
        "plt.xlabel('epoch')\n",
        "plt.legend(['train', 'test'], loc='upper left')\n",
        "plt.show()\n",
        "# summarize history for loss\n",
        "plt.plot(hist.history['loss'])\n",
        "plt.plot(hist.history['val_loss'])\n",
        "plt.title('model loss')\n",
        "plt.ylabel('loss')\n",
        "plt.xlabel('epoch')\n",
        "plt.legend(['train', 'test'], loc='upper left')\n",
        "plt.show()"
      ]
    },
    {
      "cell_type": "code",
      "execution_count": null,
      "metadata": {
        "colab": {
          "base_uri": "https://localhost:8080/"
        },
        "id": "76IwPWbLpKj8",
        "outputId": "6706ebf0-cf9c-4b83-f00e-e9b868f587d9"
      },
      "outputs": [
        {
          "name": "stdout",
          "output_type": "stream",
          "text": [
            "Mounted at /content/drive\n"
          ]
        }
      ],
      "source": [
        "from google.colab import drive\n",
        "drive.mount('/content/drive')"
      ]
    },
    {
      "cell_type": "code",
      "execution_count": null,
      "metadata": {
        "colab": {
          "base_uri": "https://localhost:8080/"
        },
        "id": "uw5pW9GWpG1O",
        "outputId": "b1fef9c6-31d2-4682-c2f5-9c166396475c"
      },
      "outputs": [
        {
          "name": "stderr",
          "output_type": "stream",
          "text": [
            "/usr/local/lib/python3.7/dist-packages/keras/engine/functional.py:1410: CustomMaskWarning: Custom mask layers require a config and must override get_config. When loading, the custom mask layer must be passed to the custom_objects argument.\n",
            "  layer_config = serialize_layer_fn(layer)\n"
          ]
        }
      ],
      "source": [
        "model.save('/content/drive/MyDrive/Classroom/TML outputs /base_model.h5')"
      ]
    },
    {
      "cell_type": "code",
      "execution_count": null,
      "metadata": {
        "id": "usRZOWetp4Rx"
      },
      "outputs": [],
      "source": [
        "new_model =  tf.keras.models.load_model('/content/drive/MyDrive/Classroom/TML outputs /base_model.h5')"
      ]
    },
    {
      "cell_type": "code",
      "execution_count": null,
      "metadata": {
        "colab": {
          "base_uri": "https://localhost:8080/"
        },
        "id": "qhzDGmvfqKJw",
        "outputId": "872a9cfe-5391-4764-f388-8d76c554f52b"
      },
      "outputs": [
        {
          "name": "stdout",
          "output_type": "stream",
          "text": [
            "313/313 [==============================] - 9s 27ms/step - loss: 0.5768 - accuracy: 0.8970\n"
          ]
        },
        {
          "data": {
            "text/plain": [
              "[0.5768340826034546, 0.8970000147819519]"
            ]
          },
          "execution_count": 17,
          "metadata": {},
          "output_type": "execute_result"
        }
      ],
      "source": [
        "new_model.evaluate(x_test, y_test)"
      ]
    },
    {
      "cell_type": "code",
      "execution_count": null,
      "metadata": {
        "colab": {
          "base_uri": "https://localhost:8080/"
        },
        "id": "jSVjzeEYrEpb",
        "outputId": "b3908cb4-ce92-4bb2-9b45-f67f97df9315"
      },
      "outputs": [
        {
          "name": "stdout",
          "output_type": "stream",
          "text": [
            "1563/1563 [==============================] - 42s 27ms/step - loss: 6.8003e-04 - accuracy: 0.9999\n"
          ]
        },
        {
          "data": {
            "text/plain": [
              "[0.0006800255505368114, 0.9999200105667114]"
            ]
          },
          "execution_count": 18,
          "metadata": {},
          "output_type": "execute_result"
        }
      ],
      "source": [
        "new_model.evaluate(x_train,y_train)"
      ]
    },
    {
      "cell_type": "code",
      "execution_count": null,
      "metadata": {
        "id": "FNZCOVtAUsj4"
      },
      "outputs": [],
      "source": [
        "import numpy as np\n",
        "import sklearn.metrics as metrics\n",
        "x_temp = np.vstack((x_train, x_test))\n",
        "y_temp = np.vstack((y_train, y_test))\n",
        "\n",
        "inv = np.ones((x_train.shape[0],1))\n",
        "outv = np.zeros((x_test.shape[0],1))\n",
        "in_out_temp = np.vstack((inv, outv))\n",
        "\n",
        "assert x_temp.shape[0] == y_temp.shape[0]\n",
        "sz = 2000\n",
        "if sz > x_temp.shape[0]:\n",
        "    sz = x_temp.shape[0]\n",
        "\n",
        "perm = np.random.permutation(x_temp.shape[0])\n",
        "perm = perm[0:sz]\n",
        "x_targets = x_temp[perm,:]\n",
        "y_targets = y_temp[perm,:]\n",
        "\n",
        "in_out_targets = in_out_temp[perm,:]\n",
        "\n",
        "\n",
        "pv = model.predict(x_targets)\n"
      ]
    },
    {
      "cell_type": "code",
      "execution_count": null,
      "metadata": {
        "id": "5ZJtkdCQgbdf"
      },
      "outputs": [],
      "source": [
        "best_t = 0.0\n",
        "best_acc = 0.0\n",
        "best_adv = 0.0\n",
        "for i in range(1,100,1):\n",
        "  threshold =i/100\n",
        "  in_or_out_pred = np.zeros((x_targets.shape[0],))\n",
        "  for i in range(0,len(pv)):\n",
        "      largest_index = np.argmax(pv[i])\n",
        "      if pv[i][largest_index] > threshold:\n",
        "          in_or_out_pred[i] = 1\n",
        "      else:\n",
        "          in_or_out_pred[i] = 0\n",
        "\n",
        "  cm = metrics.confusion_matrix(in_out_targets, in_or_out_pred)\n",
        "  accuracy = np.trace(cm) / np.sum(cm.ravel())\n",
        "  tn, fp, fn, tp = cm.ravel()\n",
        "  tpr = tp / (tp + fn)\n",
        "  fpr = fp / (fp + tn)\n",
        "  advantage = tpr - fpr\n",
        "  # print(accuracy)\n",
        "  # print(advantage)\n",
        "  if advantage > best_adv:\n",
        "    best_acc = accuracy\n",
        "    best_adv = advantage"
      ]
    },
    {
      "cell_type": "code",
      "execution_count": null,
      "metadata": {
        "colab": {
          "base_uri": "https://localhost:8080/"
        },
        "id": "FxIP6wm3sCD7",
        "outputId": "f3d4e8df-24d0-448e-934f-793e799ffcb9"
      },
      "outputs": [
        {
          "name": "stdout",
          "output_type": "stream",
          "text": [
            "0.85\n",
            "0.16772489240651767\n"
          ]
        }
      ],
      "source": [
        "\n",
        "print(best_acc)\n",
        "print(best_adv)"
      ]
    },
    {
      "cell_type": "code",
      "execution_count": null,
      "metadata": {
        "id": "pRIOHBbWsyWH"
      },
      "outputs": [],
      "source": []
    },
    {
      "cell_type": "code",
      "execution_count": null,
      "metadata": {
        "id": "e_lCiMQZsyQh"
      },
      "outputs": [],
      "source": []
    },
    {
      "cell_type": "code",
      "execution_count": null,
      "metadata": {
        "id": "dgilHf7ZsyNH"
      },
      "outputs": [],
      "source": []
    },
    {
      "cell_type": "code",
      "execution_count": null,
      "metadata": {
        "id": "AQ7fFLXZsyED"
      },
      "outputs": [],
      "source": []
    }
  ],
  "metadata": {
    "accelerator": "GPU",
    "colab": {
      "machine_shape": "hm",
      "name": "MIA Attack",
      "provenance": []
    },
    "kernelspec": {
      "display_name": "Python 3",
      "name": "python3"
    },
    "language_info": {
      "name": "python"
    }
  },
  "nbformat": 4,
  "nbformat_minor": 0
}
